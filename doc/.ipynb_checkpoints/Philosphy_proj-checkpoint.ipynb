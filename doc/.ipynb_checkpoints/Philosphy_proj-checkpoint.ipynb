{
 "cells": [
  {
   "cell_type": "markdown",
   "id": "a7c056e4-52bc-4910-a394-deac14f07c5a",
   "metadata": {},
   "source": [
    "# Is Natural Philosophy objective?"
   ]
  },
  {
   "cell_type": "markdown",
   "id": "459616a1-86aa-40b3-a0a3-1c70f79ce542",
   "metadata": {},
   "source": [
    "Intro\n",
    "natural philosophy is\n",
    "as a predecessor to the scientific method, we assume a level of objectivity higher than other schools of philosophy\n",
    "objectivity is defined as\n",
    "\n",
    "Here we will take Aristotle's work, try to classify it's topics (identify natural philosophy vs not) and determine the overall level of objectivity to try and single it out from other philosohical"
   ]
  },
  {
   "cell_type": "code",
   "execution_count": 23,
   "id": "2d285b66-6ffd-4201-9031-3e124aa7d0c1",
   "metadata": {},
   "outputs": [],
   "source": [
    "import pandas as pd\n",
    "import numpy as np\n",
    "import spacy\n",
    "from spacy.lang.en import English\n",
    "import en_core_web_md"
   ]
  },
  {
   "cell_type": "code",
   "execution_count": 2,
   "id": "2783b057-cc38-4cc1-8e7d-4faf1e0587dc",
   "metadata": {},
   "outputs": [
    {
     "name": "stderr",
     "output_type": "stream",
     "text": [
      "[nltk_data] Downloading package stopwords to\n",
      "[nltk_data]     /Users/safiraraharjo/nltk_data...\n",
      "[nltk_data]   Package stopwords is already up-to-date!\n",
      "[nltk_data] Downloading package punkt to\n",
      "[nltk_data]     /Users/safiraraharjo/nltk_data...\n",
      "[nltk_data]   Package punkt is already up-to-date!\n"
     ]
    }
   ],
   "source": [
    "import nltk\n",
    "nltk.download('stopwords')\n",
    "nltk.download('punkt')\n",
    "from nltk.corpus import stopwords\n",
    "from nltk.tokenize import word_tokenize\n"
   ]
  },
  {
   "cell_type": "code",
   "execution_count": 56,
   "id": "2b7c42ea-da37-4b51-9dc8-c0ae09c52787",
   "metadata": {},
   "outputs": [],
   "source": [
    "import seaborn as sns\n",
    "import matplotlib.pyplot as plt\n",
    "from gensim.models import CoherenceModel"
   ]
  },
  {
   "cell_type": "code",
   "execution_count": 9,
   "id": "77dc4fa6-2a7d-4eb1-b80e-44ffdeb47727",
   "metadata": {},
   "outputs": [],
   "source": [
    "from spacy.lang.en.examples import sentences "
   ]
  },
  {
   "cell_type": "code",
   "execution_count": 3,
   "id": "89414871-8870-43cd-83cf-7c2642c1e89c",
   "metadata": {},
   "outputs": [],
   "source": [
    "df = pd.read_csv('/Users/safiraraharjo/Documents/GitHub/ads-spring2023-project1-safiraharjo/data/philosophy_data.csv')"
   ]
  },
  {
   "cell_type": "code",
   "execution_count": 100,
   "id": "9b0fe9f0-0b25-44b2-8443-7bf4dced681c",
   "metadata": {},
   "outputs": [
    {
     "data": {
      "text/html": [
       "<div>\n",
       "<style scoped>\n",
       "    .dataframe tbody tr th:only-of-type {\n",
       "        vertical-align: middle;\n",
       "    }\n",
       "\n",
       "    .dataframe tbody tr th {\n",
       "        vertical-align: top;\n",
       "    }\n",
       "\n",
       "    .dataframe thead th {\n",
       "        text-align: right;\n",
       "    }\n",
       "</style>\n",
       "<table border=\"1\" class=\"dataframe\">\n",
       "  <thead>\n",
       "    <tr style=\"text-align: right;\">\n",
       "      <th></th>\n",
       "      <th>title</th>\n",
       "      <th>author</th>\n",
       "      <th>school</th>\n",
       "      <th>sentence_spacy</th>\n",
       "      <th>sentence_str</th>\n",
       "      <th>original_publication_date</th>\n",
       "      <th>corpus_edition_date</th>\n",
       "      <th>sentence_length</th>\n",
       "      <th>sentence_lowered</th>\n",
       "      <th>tokenized_txt</th>\n",
       "      <th>lemmatized_str</th>\n",
       "      <th>cleaned</th>\n",
       "    </tr>\n",
       "  </thead>\n",
       "  <tbody>\n",
       "    <tr>\n",
       "      <th>0</th>\n",
       "      <td>Plato - Complete Works</td>\n",
       "      <td>Plato</td>\n",
       "      <td>plato</td>\n",
       "      <td>What's new, Socrates, to make you leave your ...</td>\n",
       "      <td>What's new, Socrates, to make you leave your ...</td>\n",
       "      <td>-350</td>\n",
       "      <td>1997</td>\n",
       "      <td>125</td>\n",
       "      <td>what's new, socrates, to make you leave your ...</td>\n",
       "      <td>['what', 'new', 'socrates', 'to', 'make', 'you...</td>\n",
       "      <td>what be new , Socrates , to make -PRON- lea...</td>\n",
       "      <td>[new, socrates, leave, usual, haunt, lyceum, s...</td>\n",
       "    </tr>\n",
       "    <tr>\n",
       "      <th>1</th>\n",
       "      <td>Plato - Complete Works</td>\n",
       "      <td>Plato</td>\n",
       "      <td>plato</td>\n",
       "      <td>Surely you are not prosecuting anyone before t...</td>\n",
       "      <td>Surely you are not prosecuting anyone before t...</td>\n",
       "      <td>-350</td>\n",
       "      <td>1997</td>\n",
       "      <td>69</td>\n",
       "      <td>surely you are not prosecuting anyone before t...</td>\n",
       "      <td>['surely', 'you', 'are', 'not', 'prosecuting',...</td>\n",
       "      <td>surely -PRON- be not prosecute anyone before ...</td>\n",
       "      <td>[prosecute, king, archon]</td>\n",
       "    </tr>\n",
       "    <tr>\n",
       "      <th>2</th>\n",
       "      <td>Plato - Complete Works</td>\n",
       "      <td>Plato</td>\n",
       "      <td>plato</td>\n",
       "      <td>The Athenians do not call this a prosecution b...</td>\n",
       "      <td>The Athenians do not call this a prosecution b...</td>\n",
       "      <td>-350</td>\n",
       "      <td>1997</td>\n",
       "      <td>74</td>\n",
       "      <td>the athenians do not call this a prosecution b...</td>\n",
       "      <td>['the', 'athenians', 'do', 'not', 'call', 'thi...</td>\n",
       "      <td>the Athenians do not call this a prosecution ...</td>\n",
       "      <td>[athenians, prosecution, indictment, euthyphro]</td>\n",
       "    </tr>\n",
       "    <tr>\n",
       "      <th>3</th>\n",
       "      <td>Plato - Complete Works</td>\n",
       "      <td>Plato</td>\n",
       "      <td>plato</td>\n",
       "      <td>What is this you say?</td>\n",
       "      <td>What is this you say?</td>\n",
       "      <td>-350</td>\n",
       "      <td>1997</td>\n",
       "      <td>21</td>\n",
       "      <td>what is this you say?</td>\n",
       "      <td>['what', 'is', 'this', 'you', 'say']</td>\n",
       "      <td>what be this -PRON- say ?</td>\n",
       "      <td>[]</td>\n",
       "    </tr>\n",
       "    <tr>\n",
       "      <th>4</th>\n",
       "      <td>Plato - Complete Works</td>\n",
       "      <td>Plato</td>\n",
       "      <td>plato</td>\n",
       "      <td>Someone must have indicted you, for you are no...</td>\n",
       "      <td>Someone must have indicted you, for you are no...</td>\n",
       "      <td>-350</td>\n",
       "      <td>1997</td>\n",
       "      <td>101</td>\n",
       "      <td>someone must have indicted you, for you are no...</td>\n",
       "      <td>['someone', 'must', 'have', 'indicted', 'you',...</td>\n",
       "      <td>someone must have indict -PRON- , for -PRON- ...</td>\n",
       "      <td>[indict, go, tell, indict]</td>\n",
       "    </tr>\n",
       "  </tbody>\n",
       "</table>\n",
       "</div>"
      ],
      "text/plain": [
       "                    title author school  \\\n",
       "0  Plato - Complete Works  Plato  plato   \n",
       "1  Plato - Complete Works  Plato  plato   \n",
       "2  Plato - Complete Works  Plato  plato   \n",
       "3  Plato - Complete Works  Plato  plato   \n",
       "4  Plato - Complete Works  Plato  plato   \n",
       "\n",
       "                                      sentence_spacy  \\\n",
       "0   What's new, Socrates, to make you leave your ...   \n",
       "1  Surely you are not prosecuting anyone before t...   \n",
       "2  The Athenians do not call this a prosecution b...   \n",
       "3                              What is this you say?   \n",
       "4  Someone must have indicted you, for you are no...   \n",
       "\n",
       "                                        sentence_str  \\\n",
       "0   What's new, Socrates, to make you leave your ...   \n",
       "1  Surely you are not prosecuting anyone before t...   \n",
       "2  The Athenians do not call this a prosecution b...   \n",
       "3                              What is this you say?   \n",
       "4  Someone must have indicted you, for you are no...   \n",
       "\n",
       "   original_publication_date  corpus_edition_date  sentence_length  \\\n",
       "0                       -350                 1997              125   \n",
       "1                       -350                 1997               69   \n",
       "2                       -350                 1997               74   \n",
       "3                       -350                 1997               21   \n",
       "4                       -350                 1997              101   \n",
       "\n",
       "                                    sentence_lowered  \\\n",
       "0   what's new, socrates, to make you leave your ...   \n",
       "1  surely you are not prosecuting anyone before t...   \n",
       "2  the athenians do not call this a prosecution b...   \n",
       "3                              what is this you say?   \n",
       "4  someone must have indicted you, for you are no...   \n",
       "\n",
       "                                       tokenized_txt  \\\n",
       "0  ['what', 'new', 'socrates', 'to', 'make', 'you...   \n",
       "1  ['surely', 'you', 'are', 'not', 'prosecuting',...   \n",
       "2  ['the', 'athenians', 'do', 'not', 'call', 'thi...   \n",
       "3               ['what', 'is', 'this', 'you', 'say']   \n",
       "4  ['someone', 'must', 'have', 'indicted', 'you',...   \n",
       "\n",
       "                                      lemmatized_str  \\\n",
       "0     what be new , Socrates , to make -PRON- lea...   \n",
       "1   surely -PRON- be not prosecute anyone before ...   \n",
       "2   the Athenians do not call this a prosecution ...   \n",
       "3                          what be this -PRON- say ?   \n",
       "4   someone must have indict -PRON- , for -PRON- ...   \n",
       "\n",
       "                                             cleaned  \n",
       "0  [new, socrates, leave, usual, haunt, lyceum, s...  \n",
       "1                          [prosecute, king, archon]  \n",
       "2    [athenians, prosecution, indictment, euthyphro]  \n",
       "3                                                 []  \n",
       "4                         [indict, go, tell, indict]  "
      ]
     },
     "execution_count": 100,
     "metadata": {},
     "output_type": "execute_result"
    }
   ],
   "source": [
    "df.head()"
   ]
  },
  {
   "cell_type": "code",
   "execution_count": null,
   "id": "5bd815d5-b1e8-41c6-b6a5-1e81a8505eda",
   "metadata": {},
   "outputs": [],
   "source": [
    "# Import the wordcloud library\n",
    "from wordcloud import WordCloud\n",
    "# Join the different processed titles together.\n",
    "long_string = ','.join(list(papers['paper_text_processed'].values))\n",
    "# Create a WordCloud object\n",
    "wordcloud = WordCloud(background_color=\"white\", max_words=5000, contour_width=3, contour_color='steelblue')\n",
    "# Generate a word cloud\n",
    "wordcloud.generate(long_string)\n",
    "# Visualize the word cloud\n",
    "wordcloud.to_image()"
   ]
  },
  {
   "cell_type": "markdown",
   "id": "50923d2f-3aa6-4b37-978c-45d9c9cdafcd",
   "metadata": {},
   "source": [
    "NLP cleaning"
   ]
  },
  {
   "cell_type": "code",
   "execution_count": 24,
   "id": "3c7a754b-a53f-42f2-b52b-bfbad15d9eb3",
   "metadata": {},
   "outputs": [],
   "source": [
    "# Our spaCy model:\n",
    "nlp = en_core_web_md.load()\n",
    "# Tags I want to remove from the text\n",
    "removal= ['ADV','PRON','CCONJ','PUNCT','PART','DET','ADP','SPACE', 'NUM', 'SYM']\n",
    "tokens = []\n",
    "for summary in nlp.pipe(df['sentence_str']):\n",
    "   proj_tok = [token.lemma_.lower() for token in summary if token.pos_ not in removal and not token.is_stop and token.is_alpha]\n",
    "   tokens.append(proj_tok)"
   ]
  },
  {
   "cell_type": "code",
   "execution_count": null,
   "id": "f7ff6ec5-a53f-44db-a7b4-71adf884f5c4",
   "metadata": {},
   "outputs": [],
   "source": [
    "df['cleaned'] = tokens"
   ]
  },
  {
   "cell_type": "markdown",
   "id": "c945ee76-4073-4555-b30b-a17054a26734",
   "metadata": {},
   "source": [
    "We are only using aristotle, so filter"
   ]
  },
  {
   "cell_type": "code",
   "execution_count": 32,
   "id": "fe1be928-418a-4dc3-9463-47aeaac30624",
   "metadata": {},
   "outputs": [],
   "source": [
    "aristotle = df[df.author == 'Aristotle']"
   ]
  },
  {
   "cell_type": "code",
   "execution_count": 40,
   "id": "a4ed1626-bf37-4fdc-8edb-75b3d826ba96",
   "metadata": {},
   "outputs": [],
   "source": [
    "# dictionary_aristotle = aristotle['cleaned'].to_dict()\n",
    "\n",
    "import gensim.corpora as corpora\n",
    "# Create Dictionary\n",
    "id2word = corpora.Dictionary(aristotle['cleaned'])"
   ]
  },
  {
   "cell_type": "code",
   "execution_count": 41,
   "id": "77c7963f-6890-47f7-b2ba-37d2f525579a",
   "metadata": {},
   "outputs": [],
   "source": [
    "id2word.filter_extremes(no_below=5, no_above=0.5, keep_n=1000)\n",
    "corpus = [id2word.doc2bow(doc) for doc in aristotle['cleaned']]\n",
    "#https://tedboy.github.io/nlps/generated/generated/gensim.corpora.Dictionary.filter_extremes.html"
   ]
  },
  {
   "cell_type": "code",
   "execution_count": null,
   "id": "5838eddc-f7a3-4871-855e-16861428200d",
   "metadata": {},
   "outputs": [],
   "source": [
    "topics = []\n",
    "score = []\n",
    "for i in range(1,26,1):\n",
    "    lda_model = gensim.models.LdaMulticore(corpus=corpus,\n",
    "                                           id2word=id2word,\n",
    "                                           num_topics=k, \n",
    "                                           random_state=100,\n",
    "                                           chunksize=100,\n",
    "                                           passes=10)\n",
    "    coherence_model_lda = CoherenceModel(model=lda_model, texts=aristotle['cleaned'], dictionary=id2word, coherence='u_mass')\n",
    "    topics.append(i)\n",
    "    score.append(coherence_model_lda.get_coherence())\n",
    "    \n",
    "#https://www.baeldung.com/cs/topic-modeling-coherence-score"
   ]
  },
  {
   "cell_type": "code",
   "execution_count": 59,
   "id": "1c6462ee-7cb3-45c4-8b8d-1a9a798ecc23",
   "metadata": {},
   "outputs": [
    {
     "data": {
      "image/png": "[encoded data removed]",
      "text/plain": [
       "<Figure size 432x288 with 1 Axes>"
      ]
     },
     "metadata": {
      "needs_background": "light"
     },
     "output_type": "display_data"
    }
   ],
   "source": [
    "plt.figure()\n",
    "plt.plot(topics, score)\n",
    "plt.xlabel('Topics')\n",
    "plt.ylabel('Coherence Score')\n",
    "plt.show()"
   ]
  },
  {
   "cell_type": "code",
   "execution_count": null,
   "id": "5d5a9a05-8dec-46a6-a42d-98c22a942ede",
   "metadata": {},
   "outputs": [
    {
     "name": "stdout",
     "output_type": "stream",
     "text": [
      "[(0,\n",
      "  '0.032*\"animal\" + 0.026*\"man\" + 0.022*\"change\" + 0.022*\"thing\" + '\n",
      "  '0.018*\"life\" + 0.016*\"exist\" + 0.016*\"body\" + 0.016*\"heat\" + 0.016*\"cold\" + '\n",
      "  '0.014*\"plant\"'),\n",
      " (1,\n",
      "  '0.024*\"case\" + 0.020*\"number\" + 0.019*\"man\" + 0.017*\"right\" + 0.014*\"body\" '\n",
      "  '+ 0.011*\"different\" + 0.011*\"line\" + 0.010*\"reason\" + 0.009*\"form\" + '\n",
      "  '0.009*\"animal\"'),\n",
      " (2,\n",
      "  '0.032*\"man\" + 0.029*\"good\" + 0.026*\"thing\" + 0.019*\"sense\" + 0.014*\"white\" '\n",
      "  '+ 0.013*\"principle\" + 0.012*\"line\" + 0.012*\"case\" + 0.011*\"clear\" + '\n",
      "  '0.011*\"well\"'),\n",
      " (3,\n",
      "  '0.019*\"man\" + 0.013*\"law\" + 0.013*\"case\" + 0.012*\"great\" + 0.011*\"bird\" + '\n",
      "  '0.011*\"fish\" + 0.010*\"happen\" + 0.010*\"action\" + 0.010*\"end\" + '\n",
      "  '0.010*\"office\"'),\n",
      " (4,\n",
      "  '0.039*\"good\" + 0.024*\"man\" + 0.018*\"thing\" + 0.018*\"animal\" + 0.017*\"water\" '\n",
      "  '+ 0.013*\"great\" + 0.012*\"place\" + 0.010*\"reason\" + 0.009*\"take\" + '\n",
      "  '0.009*\"case\"'),\n",
      " (5,\n",
      "  '0.047*\"thing\" + 0.019*\"excellence\" + 0.017*\"come\" + 0.014*\"cause\" + '\n",
      "  '0.011*\"man\" + 0.011*\"good\" + 0.011*\"feel\" + 0.010*\"state\" + 0.010*\"place\" + '\n",
      "  '0.010*\"form\"'),\n",
      " (6,\n",
      "  '0.025*\"nature\" + 0.025*\"thing\" + 0.020*\"movement\" + 0.019*\"time\" + '\n",
      "  '0.017*\"soul\" + 0.016*\"move\" + 0.014*\"good\" + 0.010*\"man\" + 0.008*\"self\" + '\n",
      "  '0.008*\"say\"'),\n",
      " (7,\n",
      "  '0.018*\"great\" + 0.015*\"reason\" + 0.014*\"point\" + 0.014*\"small\" + '\n",
      "  '0.012*\"age\" + 0.011*\"thing\" + 0.011*\"activity\" + 0.010*\"strong\" + '\n",
      "  '0.010*\"body\" + 0.010*\"old\"'),\n",
      " (8,\n",
      "  '0.052*\"man\" + 0.017*\"animal\" + 0.016*\"male\" + 0.015*\"female\" + 0.015*\"wind\" '\n",
      "  '+ 0.013*\"belong\" + 0.012*\"way\" + 0.011*\"come\" + 0.011*\"hair\" + '\n",
      "  '0.010*\"particular\"'),\n",
      " (9,\n",
      "  '0.027*\"thing\" + 0.021*\"say\" + 0.019*\"state\" + 0.017*\"kind\" + 0.014*\"way\" + '\n",
      "  '0.013*\"art\" + 0.012*\"true\" + 0.011*\"subject\" + 0.010*\"people\" + '\n",
      "  '0.010*\"speak\"')]\n"
     ]
    }
   ],
   "source": [
    "import gensim\n",
    "from pprint import pprint\n",
    "# number of topics\n",
    "num_topics = 10\n",
    "# Build LDA model\n",
    "lda_model = gensim.models.LdaMulticore(corpus=corpus,\n",
    "                                       id2word=id2word,\n",
    "                                       num_topics=num_topics)\n",
    "# Print the Keyword in the 10 topics\n",
    "pprint(lda_model.print_topics())\n",
    "doc_lda = lda_model[corpus]"
   ]
  },
  {
   "cell_type": "code",
   "execution_count": 129,
   "id": "18836dff-65c7-4600-b537-887b2193b1d2",
   "metadata": {},
   "outputs": [],
   "source": [
    "all_topics = lda_model.get_document_topics(corpus, minimum_probability=0.0)\n",
    "all_topics_csr = gensim.matutils.corpus2csc(all_topics)\n",
    "all_topics_numpy = all_topics_csr.T.toarray()\n",
    "all_topics_df = pd.DataFrame(all_topics_numpy)\n",
    "topic_id_list = all_topics_df.idxmax(axis=1)"
   ]
  },
  {
   "cell_type": "code",
   "execution_count": 130,
   "id": "341fe2f2-62e8-4996-9571-2d66e2649924",
   "metadata": {},
   "outputs": [
    {
     "name": "stderr",
     "output_type": "stream",
     "text": [
      "/var/folders/p0/64bf77rj6sxbwv0p9jxt77pw0000gn/T/ipykernel_26376/1330383175.py:1: SettingWithCopyWarning: \n",
      "A value is trying to be set on a copy of a slice from a DataFrame.\n",
      "Try using .loc[row_indexer,col_indexer] = value instead\n",
      "\n",
      "See the caveats in the documentation: https://pandas.pydata.org/pandas-docs/stable/user_guide/indexing.html#returning-a-view-versus-a-copy\n",
      "  aristotle['topics'] = topic_id_list\n"
     ]
    }
   ],
   "source": [
    "aristotle['topics'] = topic_id_list"
   ]
  },
  {
   "cell_type": "code",
   "execution_count": 133,
   "id": "cca2db2b-2dee-4de6-80d5-918b9938233d",
   "metadata": {},
   "outputs": [
    {
     "name": "stdout",
     "output_type": "stream",
     "text": [
      "Collecting textblob\n",
      "  Downloading textblob-0.17.1-py2.py3-none-any.whl (636 kB)\n",
      "\u001b[K     |████████████████████████████████| 636 kB 7.8 MB/s eta 0:00:01\n",
      "\u001b[?25hRequirement already satisfied: nltk>=3.1 in /opt/anaconda3/lib/python3.9/site-packages (from textblob) (3.7)\n",
      "Requirement already satisfied: regex>=2021.8.3 in /opt/anaconda3/lib/python3.9/site-packages (from nltk>=3.1->textblob) (2022.3.15)\n",
      "Requirement already satisfied: joblib in /opt/anaconda3/lib/python3.9/site-packages (from nltk>=3.1->textblob) (1.1.0)\n",
      "Requirement already satisfied: tqdm in /opt/anaconda3/lib/python3.9/site-packages (from nltk>=3.1->textblob) (4.64.0)\n",
      "Requirement already satisfied: click in /opt/anaconda3/lib/python3.9/site-packages (from nltk>=3.1->textblob) (8.0.4)\n",
      "Installing collected packages: textblob\n",
      "Successfully installed textblob-0.17.1\n"
     ]
    }
   ],
   "source": [
    "!pip install textblob\n",
    "from textblob import TextBlob"
   ]
  },
  {
   "cell_type": "code",
   "execution_count": 137,
   "id": "db4905bf-14c7-467f-ad2d-b5376fd84f6c",
   "metadata": {},
   "outputs": [
    {
     "name": "stderr",
     "output_type": "stream",
     "text": [
      "/var/folders/p0/64bf77rj6sxbwv0p9jxt77pw0000gn/T/ipykernel_26376/3199333076.py:7: SettingWithCopyWarning: \n",
      "A value is trying to be set on a copy of a slice from a DataFrame.\n",
      "Try using .loc[row_indexer,col_indexer] = value instead\n",
      "\n",
      "See the caveats in the documentation: https://pandas.pydata.org/pandas-docs/stable/user_guide/indexing.html#returning-a-view-versus-a-copy\n",
      "  aristotle['subjectivity'] = subj\n"
     ]
    }
   ],
   "source": [
    "subj = []\n",
    "#list to string\n",
    "\n",
    "for i in range(len(aristotle)):\n",
    "    item = TextBlob(aristotle.iloc[i, 3]).subjectivity\n",
    "    subj.append(item)\n",
    "    \n",
    "aristotle['subjectivity'] = subj"
   ]
  },
  {
   "cell_type": "code",
   "execution_count": 138,
   "id": "68268713-8a3e-4de3-9412-ed266fa67ddd",
   "metadata": {},
   "outputs": [
    {
     "data": {
      "text/html": [
       "<div>\n",
       "<style scoped>\n",
       "    .dataframe tbody tr th:only-of-type {\n",
       "        vertical-align: middle;\n",
       "    }\n",
       "\n",
       "    .dataframe tbody tr th {\n",
       "        vertical-align: top;\n",
       "    }\n",
       "\n",
       "    .dataframe thead th {\n",
       "        text-align: right;\n",
       "    }\n",
       "</style>\n",
       "<table border=\"1\" class=\"dataframe\">\n",
       "  <thead>\n",
       "    <tr style=\"text-align: right;\">\n",
       "      <th></th>\n",
       "      <th>title</th>\n",
       "      <th>author</th>\n",
       "      <th>school</th>\n",
       "      <th>sentence_spacy</th>\n",
       "      <th>sentence_str</th>\n",
       "      <th>original_publication_date</th>\n",
       "      <th>corpus_edition_date</th>\n",
       "      <th>sentence_length</th>\n",
       "      <th>sentence_lowered</th>\n",
       "      <th>tokenized_txt</th>\n",
       "      <th>lemmatized_str</th>\n",
       "      <th>cleaned</th>\n",
       "      <th>topics</th>\n",
       "      <th>subjectivity</th>\n",
       "    </tr>\n",
       "  </thead>\n",
       "  <tbody>\n",
       "    <tr>\n",
       "      <th>38366</th>\n",
       "      <td>Aristotle - Complete Works</td>\n",
       "      <td>Aristotle</td>\n",
       "      <td>aristotle</td>\n",
       "      <td>When things have only a name in common and th...</td>\n",
       "      <td>When things have only a name in common and th...</td>\n",
       "      <td>-320</td>\n",
       "      <td>1991</td>\n",
       "      <td>139</td>\n",
       "      <td>when things have only a name in common and th...</td>\n",
       "      <td>['when', 'things', 'have', 'only', 'name', 'in...</td>\n",
       "      <td>when thing have only a name in common and t...</td>\n",
       "      <td>[thing, common, definition, correspond, differ...</td>\n",
       "      <td>8.0</td>\n",
       "      <td>0.7000</td>\n",
       "    </tr>\n",
       "    <tr>\n",
       "      <th>38367</th>\n",
       "      <td>Aristotle - Complete Works</td>\n",
       "      <td>Aristotle</td>\n",
       "      <td>aristotle</td>\n",
       "      <td>Thus, for example, both a man and a picture ar...</td>\n",
       "      <td>Thus, for example, both a man and a picture ar...</td>\n",
       "      <td>-320</td>\n",
       "      <td>1991</td>\n",
       "      <td>56</td>\n",
       "      <td>thus, for example, both a man and a picture ar...</td>\n",
       "      <td>['thus', 'for', 'example', 'both', 'man', 'and...</td>\n",
       "      <td>thus , for example , both a man and a picture...</td>\n",
       "      <td>[example, man, picture, animal]</td>\n",
       "      <td>4.0</td>\n",
       "      <td>0.0000</td>\n",
       "    </tr>\n",
       "    <tr>\n",
       "      <th>38368</th>\n",
       "      <td>Aristotle - Complete Works</td>\n",
       "      <td>Aristotle</td>\n",
       "      <td>aristotle</td>\n",
       "      <td>These have only a name in common and the defin...</td>\n",
       "      <td>These have only a name in common and the defin...</td>\n",
       "      <td>-320</td>\n",
       "      <td>1991</td>\n",
       "      <td>207</td>\n",
       "      <td>these have only a name in common and the defin...</td>\n",
       "      <td>['these', 'have', 'only', 'name', 'in', 'commo...</td>\n",
       "      <td>these have only a name in common and the defi...</td>\n",
       "      <td>[common, definition, correspond, different, an...</td>\n",
       "      <td>9.0</td>\n",
       "      <td>0.6000</td>\n",
       "    </tr>\n",
       "    <tr>\n",
       "      <th>38369</th>\n",
       "      <td>Aristotle - Complete Works</td>\n",
       "      <td>Aristotle</td>\n",
       "      <td>aristotle</td>\n",
       "      <td>When things have the name in common and the de...</td>\n",
       "      <td>When things have the name in common and the de...</td>\n",
       "      <td>-320</td>\n",
       "      <td>1991</td>\n",
       "      <td>134</td>\n",
       "      <td>when things have the name in common and the de...</td>\n",
       "      <td>['when', 'things', 'have', 'the', 'name', 'in'...</td>\n",
       "      <td>when thing have the name in common and the de...</td>\n",
       "      <td>[thing, common, definition, correspond, call, ...</td>\n",
       "      <td>9.0</td>\n",
       "      <td>0.3125</td>\n",
       "    </tr>\n",
       "    <tr>\n",
       "      <th>38370</th>\n",
       "      <td>Aristotle - Complete Works</td>\n",
       "      <td>Aristotle</td>\n",
       "      <td>aristotle</td>\n",
       "      <td>Thus, for example, both a man and an ox are an...</td>\n",
       "      <td>Thus, for example, both a man and an ox are an...</td>\n",
       "      <td>-320</td>\n",
       "      <td>1991</td>\n",
       "      <td>52</td>\n",
       "      <td>thus, for example, both a man and an ox are an...</td>\n",
       "      <td>['thus', 'for', 'example', 'both', 'man', 'and...</td>\n",
       "      <td>thus , for example , both a man and an ox be ...</td>\n",
       "      <td>[example, man, ox, animal]</td>\n",
       "      <td>9.0</td>\n",
       "      <td>0.0000</td>\n",
       "    </tr>\n",
       "  </tbody>\n",
       "</table>\n",
       "</div>"
      ],
      "text/plain": [
       "                            title     author     school  \\\n",
       "38366  Aristotle - Complete Works  Aristotle  aristotle   \n",
       "38367  Aristotle - Complete Works  Aristotle  aristotle   \n",
       "38368  Aristotle - Complete Works  Aristotle  aristotle   \n",
       "38369  Aristotle - Complete Works  Aristotle  aristotle   \n",
       "38370  Aristotle - Complete Works  Aristotle  aristotle   \n",
       "\n",
       "                                          sentence_spacy  \\\n",
       "38366   When things have only a name in common and th...   \n",
       "38367  Thus, for example, both a man and a picture ar...   \n",
       "38368  These have only a name in common and the defin...   \n",
       "38369  When things have the name in common and the de...   \n",
       "38370  Thus, for example, both a man and an ox are an...   \n",
       "\n",
       "                                            sentence_str  \\\n",
       "38366   When things have only a name in common and th...   \n",
       "38367  Thus, for example, both a man and a picture ar...   \n",
       "38368  These have only a name in common and the defin...   \n",
       "38369  When things have the name in common and the de...   \n",
       "38370  Thus, for example, both a man and an ox are an...   \n",
       "\n",
       "       original_publication_date  corpus_edition_date  sentence_length  \\\n",
       "38366                       -320                 1991              139   \n",
       "38367                       -320                 1991               56   \n",
       "38368                       -320                 1991              207   \n",
       "38369                       -320                 1991              134   \n",
       "38370                       -320                 1991               52   \n",
       "\n",
       "                                        sentence_lowered  \\\n",
       "38366   when things have only a name in common and th...   \n",
       "38367  thus, for example, both a man and a picture ar...   \n",
       "38368  these have only a name in common and the defin...   \n",
       "38369  when things have the name in common and the de...   \n",
       "38370  thus, for example, both a man and an ox are an...   \n",
       "\n",
       "                                           tokenized_txt  \\\n",
       "38366  ['when', 'things', 'have', 'only', 'name', 'in...   \n",
       "38367  ['thus', 'for', 'example', 'both', 'man', 'and...   \n",
       "38368  ['these', 'have', 'only', 'name', 'in', 'commo...   \n",
       "38369  ['when', 'things', 'have', 'the', 'name', 'in'...   \n",
       "38370  ['thus', 'for', 'example', 'both', 'man', 'and...   \n",
       "\n",
       "                                          lemmatized_str  \\\n",
       "38366     when thing have only a name in common and t...   \n",
       "38367   thus , for example , both a man and a picture...   \n",
       "38368   these have only a name in common and the defi...   \n",
       "38369   when thing have the name in common and the de...   \n",
       "38370   thus , for example , both a man and an ox be ...   \n",
       "\n",
       "                                                 cleaned  topics  subjectivity  \n",
       "38366  [thing, common, definition, correspond, differ...     8.0        0.7000  \n",
       "38367                    [example, man, picture, animal]     4.0        0.0000  \n",
       "38368  [common, definition, correspond, different, an...     9.0        0.6000  \n",
       "38369  [thing, common, definition, correspond, call, ...     9.0        0.3125  \n",
       "38370                         [example, man, ox, animal]     9.0        0.0000  "
      ]
     },
     "execution_count": 138,
     "metadata": {},
     "output_type": "execute_result"
    }
   ],
   "source": [
    "aristotle.head()"
   ]
  },
  {
   "cell_type": "code",
   "execution_count": null,
   "id": "ed481ca5-72ac-499d-8036-e9e216b344a9",
   "metadata": {},
   "outputs": [],
   "source": [
    "https://levelup.gitconnected.com/simple-nlp-in-python-2cb3243239d3"
   ]
  }
 ],
 "metadata": {
  "kernelspec": {
   "display_name": "Python 3 (ipykernel)",
   "language": "python",
   "name": "python3"
  },
  "language_info": {
   "codemirror_mode": {
    "name": "ipython",
    "version": 3
   },
   "file_extension": ".py",
   "mimetype": "text/x-python",
   "name": "python",
   "nbconvert_exporter": "python",
   "pygments_lexer": "ipython3",
   "version": "3.9.12"
  }
 },
 "nbformat": 4,
 "nbformat_minor": 5
}
